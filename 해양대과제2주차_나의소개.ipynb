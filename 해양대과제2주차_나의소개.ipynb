{
  "nbformat": 4,
  "nbformat_minor": 0,
  "metadata": {
    "colab": {
      "provenance": [],
      "authorship_tag": "ABX9TyNhKZxFhv/bOdQlWvMda5RG",
      "include_colab_link": true
    },
    "kernelspec": {
      "name": "python3",
      "display_name": "Python 3"
    },
    "language_info": {
      "name": "python"
    }
  },
  "cells": [
    {
      "cell_type": "markdown",
      "metadata": {
        "id": "view-in-github",
        "colab_type": "text"
      },
      "source": [
        "<a href=\"https://colab.research.google.com/github/kimyt1976/AI-Programming/blob/main/%ED%95%B4%EC%96%91%EB%8C%80%EA%B3%BC%EC%A0%9C2%EC%A3%BC%EC%B0%A8_%EB%82%98%EC%9D%98%EC%86%8C%EA%B0%9C.ipynb\" target=\"_parent\"><img src=\"https://colab.research.google.com/assets/colab-badge.svg\" alt=\"Open In Colab\"/></a>"
      ]
    },
    {
      "cell_type": "code",
      "execution_count": null,
      "metadata": {
        "colab": {
          "base_uri": "https://localhost:8080/"
        },
        "id": "3ZP3_4DoGdwL",
        "outputId": "ed1b5334-086e-4294-aaf2-ea434e10d4f0"
      },
      "outputs": [
        {
          "output_type": "stream",
          "name": "stdout",
          "text": [
            "나의 이름은\n",
            "김영태\n",
            "김영태  입니다.\n",
            "나의 나이는\n",
            "48\n",
            "48 세 입니다.\n",
            "나의 직업은\n",
            "회사원\n",
            "회사원  입니다.\n"
          ]
        }
      ],
      "source": [
        "def myintroduce():\n",
        "    print('나의 이름은')\n",
        "    myname = input()\n",
        "    print(myname, ' 입니다.')\n",
        "\n",
        "    print('나의 나이는')\n",
        "    myage = input()\n",
        "    print(myage, '세 입니다.')\n",
        "\n",
        "    print('나의 직업은')\n",
        "    mywork = input()\n",
        "    print(mywork, ' 입니다.')\n",
        "\n",
        "myintroduce()"
      ]
    }
  ]
}