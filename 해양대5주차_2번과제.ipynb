{
  "nbformat": 4,
  "nbformat_minor": 0,
  "metadata": {
    "colab": {
      "provenance": [],
      "authorship_tag": "ABX9TyOn5fHl2MdvEVGBhSfuZfbH",
      "include_colab_link": true
    },
    "kernelspec": {
      "name": "python3",
      "display_name": "Python 3"
    },
    "language_info": {
      "name": "python"
    }
  },
  "cells": [
    {
      "cell_type": "markdown",
      "metadata": {
        "id": "view-in-github",
        "colab_type": "text"
      },
      "source": [
        "<a href=\"https://colab.research.google.com/github/kimyt1976/AI-Programming/blob/main/%ED%95%B4%EC%96%91%EB%8C%805%EC%A3%BC%EC%B0%A8_2%EB%B2%88%EA%B3%BC%EC%A0%9C.ipynb\" target=\"_parent\"><img src=\"https://colab.research.google.com/assets/colab-badge.svg\" alt=\"Open In Colab\"/></a>"
      ]
    },
    {
      "cell_type": "code",
      "execution_count": 7,
      "metadata": {
        "colab": {
          "base_uri": "https://localhost:8080/",
          "height": 928
        },
        "id": "SCjhvw8hNW_P",
        "outputId": "81daaac4-a917-4c32-fe89-100ef2c914fe"
      },
      "outputs": [
        {
          "output_type": "stream",
          "name": "stderr",
          "text": [
            "<ipython-input-7-2c9c91e239b9>:14: FutureWarning: The default value of numeric_only in DataFrame.mean is deprecated. In a future version, it will default to False. In addition, specifying 'numeric_only=None' is deprecated. Select only valid columns or specify the value of numeric_only to silence this warning.\n",
            "  monthly_wind[i] = monthly[i].mean()['평균풍속']\n",
            "<ipython-input-7-2c9c91e239b9>:14: FutureWarning: The default value of numeric_only in DataFrame.mean is deprecated. In a future version, it will default to False. In addition, specifying 'numeric_only=None' is deprecated. Select only valid columns or specify the value of numeric_only to silence this warning.\n",
            "  monthly_wind[i] = monthly[i].mean()['평균풍속']\n",
            "<ipython-input-7-2c9c91e239b9>:14: FutureWarning: The default value of numeric_only in DataFrame.mean is deprecated. In a future version, it will default to False. In addition, specifying 'numeric_only=None' is deprecated. Select only valid columns or specify the value of numeric_only to silence this warning.\n",
            "  monthly_wind[i] = monthly[i].mean()['평균풍속']\n",
            "<ipython-input-7-2c9c91e239b9>:14: FutureWarning: The default value of numeric_only in DataFrame.mean is deprecated. In a future version, it will default to False. In addition, specifying 'numeric_only=None' is deprecated. Select only valid columns or specify the value of numeric_only to silence this warning.\n",
            "  monthly_wind[i] = monthly[i].mean()['평균풍속']\n",
            "<ipython-input-7-2c9c91e239b9>:14: FutureWarning: The default value of numeric_only in DataFrame.mean is deprecated. In a future version, it will default to False. In addition, specifying 'numeric_only=None' is deprecated. Select only valid columns or specify the value of numeric_only to silence this warning.\n",
            "  monthly_wind[i] = monthly[i].mean()['평균풍속']\n",
            "<ipython-input-7-2c9c91e239b9>:14: FutureWarning: The default value of numeric_only in DataFrame.mean is deprecated. In a future version, it will default to False. In addition, specifying 'numeric_only=None' is deprecated. Select only valid columns or specify the value of numeric_only to silence this warning.\n",
            "  monthly_wind[i] = monthly[i].mean()['평균풍속']\n",
            "<ipython-input-7-2c9c91e239b9>:14: FutureWarning: The default value of numeric_only in DataFrame.mean is deprecated. In a future version, it will default to False. In addition, specifying 'numeric_only=None' is deprecated. Select only valid columns or specify the value of numeric_only to silence this warning.\n",
            "  monthly_wind[i] = monthly[i].mean()['평균풍속']\n",
            "<ipython-input-7-2c9c91e239b9>:14: FutureWarning: The default value of numeric_only in DataFrame.mean is deprecated. In a future version, it will default to False. In addition, specifying 'numeric_only=None' is deprecated. Select only valid columns or specify the value of numeric_only to silence this warning.\n",
            "  monthly_wind[i] = monthly[i].mean()['평균풍속']\n",
            "<ipython-input-7-2c9c91e239b9>:14: FutureWarning: The default value of numeric_only in DataFrame.mean is deprecated. In a future version, it will default to False. In addition, specifying 'numeric_only=None' is deprecated. Select only valid columns or specify the value of numeric_only to silence this warning.\n",
            "  monthly_wind[i] = monthly[i].mean()['평균풍속']\n",
            "<ipython-input-7-2c9c91e239b9>:14: FutureWarning: The default value of numeric_only in DataFrame.mean is deprecated. In a future version, it will default to False. In addition, specifying 'numeric_only=None' is deprecated. Select only valid columns or specify the value of numeric_only to silence this warning.\n",
            "  monthly_wind[i] = monthly[i].mean()['평균풍속']\n",
            "<ipython-input-7-2c9c91e239b9>:14: FutureWarning: The default value of numeric_only in DataFrame.mean is deprecated. In a future version, it will default to False. In addition, specifying 'numeric_only=None' is deprecated. Select only valid columns or specify the value of numeric_only to silence this warning.\n",
            "  monthly_wind[i] = monthly[i].mean()['평균풍속']\n",
            "<ipython-input-7-2c9c91e239b9>:14: FutureWarning: The default value of numeric_only in DataFrame.mean is deprecated. In a future version, it will default to False. In addition, specifying 'numeric_only=None' is deprecated. Select only valid columns or specify the value of numeric_only to silence this warning.\n",
            "  monthly_wind[i] = monthly[i].mean()['평균풍속']\n"
          ]
        },
        {
          "output_type": "execute_result",
          "data": {
            "text/plain": [
              "Text(0, 0.5, 'Wind')"
            ]
          },
          "metadata": {},
          "execution_count": 7
        },
        {
          "output_type": "display_data",
          "data": {
            "text/plain": [
              "<Figure size 640x480 with 1 Axes>"
            ],
            "image/png": "[encoded data removed]"
          },
          "metadata": {}
        }
      ],
      "source": [
        "import pandas as pd\n",
        "import numpy as np\n",
        "import matplotlib.pyplot as plt\n",
        "path = 'https://github.com/dongupak/DataML/raw/main/csv/'\n",
        "weather_file = path + 'weather.csv'\n",
        "weather = pd.read_csv(weather_file, encoding='CP949')\n",
        "weather['month'] = pd.DatetimeIndex(weather['일시']).month\n",
        "\n",
        "monthly = [None for X in range(12)]\n",
        "monthly_wind = [0 for X in range(12)]\n",
        "\n",
        "for i in range(12) :\n",
        "  monthly[i] = weather[ weather['month'] == i + 1]\n",
        "  monthly_wind[i] = monthly[i].mean()['평균풍속']\n",
        "\n",
        "months = np.arange(1, 13)\n",
        "plt.bar(months, monthly_wind, color='orange')\n",
        "plt.xlabel('Month')\n",
        "plt.ylabel('Wind')\n",
        "\n"
      ]
    },
    {
      "cell_type": "code",
      "source": [],
      "metadata": {
        "id": "F4BahiBqRTYB"
      },
      "execution_count": null,
      "outputs": []
    }
  ]
}