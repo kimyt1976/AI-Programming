{
  "nbformat": 4,
  "nbformat_minor": 0,
  "metadata": {
    "colab": {
      "provenance": [],
      "authorship_tag": "ABX9TyOsb1ozT52B+iRpsQhn8KSp",
      "include_colab_link": true
    },
    "kernelspec": {
      "name": "python3",
      "display_name": "Python 3"
    },
    "language_info": {
      "name": "python"
    }
  },
  "cells": [
    {
      "cell_type": "markdown",
      "metadata": {
        "id": "view-in-github",
        "colab_type": "text"
      },
      "source": [
        "<a href=\"https://colab.research.google.com/github/kimyt1976/AI-Programming/blob/main/%ED%95%B4%EC%96%91%EB%8C%80%EA%B3%BC%EC%A0%9C3%EC%A3%BC%EC%B0%A83%EB%B2%88.ipynb\" target=\"_parent\"><img src=\"https://colab.research.google.com/assets/colab-badge.svg\" alt=\"Open In Colab\"/></a>"
      ]
    },
    {
      "cell_type": "code",
      "execution_count": 6,
      "metadata": {
        "colab": {
          "base_uri": "https://localhost:8080/"
        },
        "id": "6Tmld8A9Q6MM",
        "outputId": "7416bc7e-d24c-4411-8e2a-eb6c619f4098"
      },
      "outputs": [
        {
          "output_type": "stream",
          "name": "stdout",
          "text": [
            "[4,3,4 배열]\n",
            "[[[ 0  1  2  3]\n",
            "  [ 4  5  6  7]\n",
            "  [ 8  9 10 11]]\n",
            "\n",
            " [[12 13 14 15]\n",
            "  [16 17 18 19]\n",
            "  [20 21 22 23]]\n",
            "\n",
            " [[24 25 26 27]\n",
            "  [28 29 30 31]\n",
            "  [32 33 34 35]]\n",
            "\n",
            " [[36 37 38 39]\n",
            "  [40 41 42 43]\n",
            "  [44 45 46 47]]]\n",
            "[6,8 배열]\n",
            "[[ 0  1  2  3  4  5  6  7]\n",
            " [ 8  9 10 11 12 13 14 15]\n",
            " [16 17 18 19 20 21 22 23]\n",
            " [24 25 26 27 28 29 30 31]\n",
            " [32 33 34 35 36 37 38 39]\n",
            " [40 41 42 43 44 45 46 47]]\n"
          ]
        }
      ],
      "source": [
        "import numpy as np\n",
        "\n",
        "temp = np.arange(48)\n",
        "\n",
        "myarray1 = temp.reshape(4,3,4)\n",
        "print (\"[4,3,4 배열]\")\n",
        "print (myarray1)\n",
        "\n",
        "myarray2 = temp.reshape(6,8)\n",
        "print (\"[6,8 배열]\")\n",
        "print (myarray2)\n"
      ]
    }
  ]
}