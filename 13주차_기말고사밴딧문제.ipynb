{
  "nbformat": 4,
  "nbformat_minor": 0,
  "metadata": {
    "colab": {
      "provenance": [],
      "authorship_tag": "ABX9TyOz+pve3vdyZr26qWbdxYeP",
      "include_colab_link": true
    },
    "kernelspec": {
      "name": "python3",
      "display_name": "Python 3"
    },
    "language_info": {
      "name": "python"
    }
  },
  "cells": [
    {
      "cell_type": "markdown",
      "metadata": {
        "id": "view-in-github",
        "colab_type": "text"
      },
      "source": [
        "<a href=\"https://colab.research.google.com/github/kimyt1976/AI-Programming/blob/main/13%EC%A3%BC%EC%B0%A8_%EA%B8%B0%EB%A7%90%EA%B3%A0%EC%82%AC%EB%B0%B4%EB%94%A7%EB%AC%B8%EC%A0%9C.ipynb\" target=\"_parent\"><img src=\"https://colab.research.google.com/assets/colab-badge.svg\" alt=\"Open In Colab\"/></a>"
      ]
    },
    {
      "cell_type": "code",
      "execution_count": 8,
      "metadata": {
        "colab": {
          "base_uri": "https://localhost:8080/"
        },
        "id": "l6utV8Lo_KG4",
        "outputId": "a35241fa-ffd4-4db4-e47d-2ccc41162504"
      },
      "outputs": [
        {
          "output_type": "stream",
          "name": "stdout",
          "text": [
            "손잡이별 승릭 확율 :  ['0.3979', '0.1445', '0.5166', '0.6222', '0.2600']\n",
            "손잡이별 수익($) :  ['-39', '-123', '7', '55', '-96']\n",
            "순 수익($) :  -196\n"
          ]
        }
      ],
      "source": [
        "import numpy as np\n",
        "\n",
        "#다중 손잡이 밴딧 문제 설정\n",
        "arms_profit=[0.4, 0.12, 0.52, 0.6, 0.25]\n",
        "n_arms = len(arms_profit)\n",
        "\n",
        "n_trial=1000\n",
        "\n",
        "#손잡이 당기는 행위를 시물레이션 하는 함수\n",
        "def pull_bandit(handle):\n",
        "  q=np.random.random()\n",
        "  if q<arms_profit[handle]:\n",
        "    return 1\n",
        "  else:\n",
        "    return -1\n",
        "\n",
        "#랜덤 정책을 모방하는 함수\n",
        "def random_exploration():\n",
        "  episode=[]\n",
        "  num=np.zeros(n_arms)\n",
        "  wins=np.zeros(n_arms)\n",
        "  for i in range(n_trial):\n",
        "    h=np.random.randint(0, n_arms)\n",
        "    reward=pull_bandit(h)\n",
        "    episode.append([h, reward])\n",
        "    num[h]+=1\n",
        "    wins[h]+=1 if reward==1 else 0\n",
        "  return episode, (num, wins)\n",
        "\n",
        "e,r=random_exploration()\n",
        "\n",
        "print(\"손잡이별 승릭 확율 : \", [\"%6.4f\"% (r[1][i]/r[0][i]) if r[0][i]>0 else 0.0 for i\n",
        "in range(n_arms)])\n",
        "print(\"손잡이별 수익($) : \", [\"%d\"% (2*r[1][i]-r[0][i]) for i in range(n_arms)])\n",
        "print(\"순 수익($) : \", sum(np.asarray(e)[:,1]))\n",
        "\n",
        "\n"
      ]
    }
  ]
}