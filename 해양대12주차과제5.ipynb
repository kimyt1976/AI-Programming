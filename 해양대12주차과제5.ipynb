{
  "nbformat": 4,
  "nbformat_minor": 0,
  "metadata": {
    "colab": {
      "provenance": [],
      "authorship_tag": "ABX9TyM8dX5YEtfboFXl0e4CoHuR",
      "include_colab_link": true
    },
    "kernelspec": {
      "name": "python3",
      "display_name": "Python 3"
    },
    "language_info": {
      "name": "python"
    }
  },
  "cells": [
    {
      "cell_type": "markdown",
      "metadata": {
        "id": "view-in-github",
        "colab_type": "text"
      },
      "source": [
        "<a href=\"https://colab.research.google.com/github/kimyt1976/AI-Programming/blob/main/%ED%95%B4%EC%96%91%EB%8C%8012%EC%A3%BC%EC%B0%A8%EA%B3%BC%EC%A0%9C5.ipynb\" target=\"_parent\"><img src=\"https://colab.research.google.com/assets/colab-badge.svg\" alt=\"Open In Colab\"/></a>"
      ]
    },
    {
      "cell_type": "code",
      "execution_count": 1,
      "metadata": {
        "colab": {
          "base_uri": "https://localhost:8080/",
          "height": 1000
        },
        "id": "l0V27XQp6UP7",
        "outputId": "25fb324a-e534-468c-8d11-4cf655a80c66"
      },
      "outputs": [
        {
          "output_type": "stream",
          "name": "stdout",
          "text": [
            "Downloading data from https://storage.googleapis.com/tensorflow/tf-keras-datasets/train-labels-idx1-ubyte.gz\n",
            "29515/29515 [==============================] - 0s 0us/step\n",
            "Downloading data from https://storage.googleapis.com/tensorflow/tf-keras-datasets/train-images-idx3-ubyte.gz\n",
            "26421880/26421880 [==============================] - 0s 0us/step\n",
            "Downloading data from https://storage.googleapis.com/tensorflow/tf-keras-datasets/t10k-labels-idx1-ubyte.gz\n",
            "5148/5148 [==============================] - 0s 0us/step\n",
            "Downloading data from https://storage.googleapis.com/tensorflow/tf-keras-datasets/t10k-images-idx3-ubyte.gz\n",
            "4422102/4422102 [==============================] - 0s 0us/step\n",
            "Model: \"sequential\"\n",
            "_________________________________________________________________\n",
            " Layer (type)                Output Shape              Param #   \n",
            "=================================================================\n",
            " conv2d (Conv2D)             (None, 28, 28, 32)        320       \n",
            "                                                                 \n",
            " max_pooling2d (MaxPooling2  (None, 13, 13, 32)        0         \n",
            " D)                                                              \n",
            "                                                                 \n",
            " conv2d_1 (Conv2D)           (None, 13, 13, 64)        18496     \n",
            "                                                                 \n",
            " max_pooling2d_1 (MaxPoolin  (None, 6, 6, 64)          0         \n",
            " g2D)                                                            \n",
            "                                                                 \n",
            " conv2d_2 (Conv2D)           (None, 6, 6, 32)          18464     \n",
            "                                                                 \n",
            " flatten (Flatten)           (None, 1152)              0         \n",
            "                                                                 \n",
            " dense (Dense)               (None, 128)               147584    \n",
            "                                                                 \n",
            " dense_1 (Dense)             (None, 32)                4128      \n",
            "                                                                 \n",
            " dense_2 (Dense)             (None, 10)                330       \n",
            "                                                                 \n",
            "=================================================================\n",
            "Total params: 189322 (739.54 KB)\n",
            "Trainable params: 189322 (739.54 KB)\n",
            "Non-trainable params: 0 (0.00 Byte)\n",
            "_________________________________________________________________\n",
            "Epoch 1/10\n",
            "1407/1407 [==============================] - 84s 57ms/step - loss: 0.5011 - accuracy: 0.8183 - val_loss: 0.3828 - val_accuracy: 0.8631\n",
            "Epoch 2/10\n",
            "1407/1407 [==============================] - 72s 51ms/step - loss: 0.3174 - accuracy: 0.8826 - val_loss: 0.3075 - val_accuracy: 0.8881\n",
            "Epoch 3/10\n",
            "1407/1407 [==============================] - 69s 49ms/step - loss: 0.2691 - accuracy: 0.8998 - val_loss: 0.2737 - val_accuracy: 0.9009\n",
            "Epoch 4/10\n",
            "1407/1407 [==============================] - 69s 49ms/step - loss: 0.2347 - accuracy: 0.9131 - val_loss: 0.2724 - val_accuracy: 0.9032\n",
            "Epoch 5/10\n",
            "1407/1407 [==============================] - 75s 53ms/step - loss: 0.2091 - accuracy: 0.9222 - val_loss: 0.2625 - val_accuracy: 0.9060\n",
            "Epoch 6/10\n",
            "1407/1407 [==============================] - 70s 50ms/step - loss: 0.1895 - accuracy: 0.9295 - val_loss: 0.2627 - val_accuracy: 0.9074\n",
            "Epoch 7/10\n",
            "1407/1407 [==============================] - 69s 49ms/step - loss: 0.1723 - accuracy: 0.9350 - val_loss: 0.2582 - val_accuracy: 0.9129\n",
            "Epoch 8/10\n",
            "1407/1407 [==============================] - 69s 49ms/step - loss: 0.1543 - accuracy: 0.9412 - val_loss: 0.2825 - val_accuracy: 0.9053\n",
            "Epoch 9/10\n",
            "1407/1407 [==============================] - 70s 49ms/step - loss: 0.1405 - accuracy: 0.9470 - val_loss: 0.2651 - val_accuracy: 0.9137\n",
            "Epoch 10/10\n",
            "1407/1407 [==============================] - 74s 52ms/step - loss: 0.1279 - accuracy: 0.9519 - val_loss: 0.2988 - val_accuracy: 0.9101\n",
            "313/313 - 3s - loss: 0.3165 - accuracy: 0.9062 - 3s/epoch - 10ms/step\n",
            "테스트 정확도 :  0.9061999917030334\n",
            "2/2 [==============================] - 0s 15ms/step\n",
            "예측값 =  [9 2 1 1 6 1 4 6 5 7 4 5 5 3 4 1 6 6 8 0 2 5 7 5 1 2 6 0 9 3 8 8 3 3 8 0 7\n",
            " 5 7 9 0 1 6 9 6 7 2 1 2 6]\n",
            "실제값 =  [9 2 1 1 6 1 4 6 5 7 4 5 7 3 4 1 2 4 8 0 2 5 7 9 1 4 6 0 9 3 8 8 3 3 8 0 7\n",
            " 5 7 9 6 1 3 7 6 7 2 1 2 2]\n"
          ]
        },
        {
          "output_type": "display_data",
          "data": {
            "text/plain": [
              "<Figure size 640x480 with 1 Axes>"
            ],
            "image/png": "[encoded data removed]"
          },
          "metadata": {}
        }
      ],
      "source": [
        "import tensorflow as tf\n",
        "from tensorflow import keras\n",
        "import numpy as np\n",
        "import matplotlib.pyplot as plt\n",
        "\n",
        "fashion_mnist = keras.datasets.fashion_mnist\n",
        "(train_images, train_labels), (test_images, test_labels) = fashion_mnist.load_data()\n",
        "\n",
        "train_images = train_images[:, :, :, np.newaxis]\n",
        "test_images = test_images[:, :, :, np.newaxis]\n",
        "train_images, test_images = train_images / 255, test_images / 255\n",
        "\n",
        "model = keras.models.Sequential([\n",
        "    keras.layers.Conv2D(input_shape = (28, 28, 1),\n",
        "                        kernel_size = (3, 3), padding = 'same',\n",
        "                        filters = 32),\n",
        "    keras.layers.MaxPooling2D((3, 3), strides=2),\n",
        "    keras.layers.Conv2D(kernel_size = (3, 3), padding = 'same',\n",
        "                        filters = 64),\n",
        "    keras.layers.MaxPooling2D((3, 3), strides=2),\n",
        "    keras.layers.Conv2D(kernel_size = (3, 3), padding = 'same',\n",
        "                        filters = 32),\n",
        "    keras.layers.Flatten(),\n",
        "    keras.layers.Dense(128, activation = 'relu'),\n",
        "    keras.layers.Dense(32, activation = 'relu'),\n",
        "    keras.layers.Dense(10, activation='softmax')\n",
        "])\n",
        "\n",
        "model.summary()\n",
        "\n",
        "model.compile(optimizer='adam',\n",
        "              loss = 'sparse_categorical_crossentropy',\n",
        "              metrics=['accuracy'])\n",
        "hist = model.fit(train_images, train_labels,\n",
        "                 epochs=10, validation_split=0.25)\n",
        "\n",
        "plt.plot(hist.history['accuracy'], 'b-')\n",
        "plt.plot(hist.history['val_accuracy'], 'r--')\n",
        "\n",
        "test_loss, test_acc = model.evaluate(test_images, test_labels, verbose=2)\n",
        "print('테스트 정확도 : ', test_acc)\n",
        "\n",
        "mnist_lbl = ['T-shirt', 'Trouser', 'Pullover', 'Dress', 'Coat',\n",
        "             'Sandal', 'Shirt', 'Sneaker', 'Bag', 'Ankle_boot']\n",
        "\n",
        "images = test_images[:50]\n",
        "pred = np.argmax(model.predict(images), axis=1)\n",
        "print('예측값 = ', pred)\n",
        "print('실제값 = ', test_labels[:50])\n",
        "\n",
        "#전처리한 합성곱 신경망 50개의 데이터에 대한 예측 / epochs=10\n",
        "#MaxPooling2D((3, 3), strides=2)"
      ]
    }
  ]
}