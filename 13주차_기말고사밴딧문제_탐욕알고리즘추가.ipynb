{
  "nbformat": 4,
  "nbformat_minor": 0,
  "metadata": {
    "colab": {
      "provenance": [],
      "authorship_tag": "ABX9TyML7yr3VVGTN9R7WRrf6PnY",
      "include_colab_link": true
    },
    "kernelspec": {
      "name": "python3",
      "display_name": "Python 3"
    },
    "language_info": {
      "name": "python"
    }
  },
  "cells": [
    {
      "cell_type": "markdown",
      "metadata": {
        "id": "view-in-github",
        "colab_type": "text"
      },
      "source": [
        "<a href=\"https://colab.research.google.com/github/kimyt1976/AI-Programming/blob/main/13%EC%A3%BC%EC%B0%A8_%EA%B8%B0%EB%A7%90%EA%B3%A0%EC%82%AC%EB%B0%B4%EB%94%A7%EB%AC%B8%EC%A0%9C_%ED%83%90%EC%9A%95%EC%95%8C%EA%B3%A0%EB%A6%AC%EC%A6%98%EC%B6%94%EA%B0%80.ipynb\" target=\"_parent\"><img src=\"https://colab.research.google.com/assets/colab-badge.svg\" alt=\"Open In Colab\"/></a>"
      ]
    },
    {
      "cell_type": "code",
      "execution_count": 4,
      "metadata": {
        "colab": {
          "base_uri": "https://localhost:8080/"
        },
        "id": "mPztlqMJDnk-",
        "outputId": "2c89ebae-dcd9-4b72-ebe5-5bf408407ca5"
      },
      "outputs": [
        {
          "output_type": "stream",
          "name": "stdout",
          "text": [
            "손잡이별 승릭 확율 :  ['0.3367', '0.1389', '0.5615', '0.6010', '0.2576']\n",
            "손잡이별 수익($) :  ['-64', '-156', '23', '41', '-96']\n",
            "순 수익($) :  -252\n",
            "손잡이별 승릭 확율 :  ['0.3502', '0.0323', '0.5486', '0.6158', '0.1818']\n",
            "손잡이별 수익($) :  ['-65', '-29', '31', '85', '-42']\n",
            "순 수익($) :  -20\n"
          ]
        }
      ],
      "source": [
        "import numpy as np\n",
        "\n",
        "#다중 손잡이 밴딧 문제 설정\n",
        "arms_profit=[0.4, 0.12, 0.52, 0.6, 0.25]\n",
        "n_arms = len(arms_profit)\n",
        "\n",
        "n_trial=1000\n",
        "\n",
        "#손잡이 당기는 행위를 시물레이션 하는 함수\n",
        "def pull_bandit(handle):\n",
        "  q=np.random.random()\n",
        "  if q<arms_profit[handle]:\n",
        "    return 1\n",
        "  else:\n",
        "    return -1\n",
        "\n",
        "#랜덤 정책을 모방하는 함수\n",
        "def random_exploration():\n",
        "  episode=[]\n",
        "  num=np.zeros(n_arms)\n",
        "  wins=np.zeros(n_arms)\n",
        "  for i in range(n_trial):\n",
        "    h=np.random.randint(0, n_arms)\n",
        "    reward=pull_bandit(h)\n",
        "    episode.append([h, reward])\n",
        "    num[h]+=1\n",
        "    wins[h]+=1 if reward==1 else 0\n",
        "  return episode, (num, wins)\n",
        "\n",
        "e,r=random_exploration()\n",
        "\n",
        "print(\"손잡이별 승릭 확율 : \", [\"%6.4f\"% (r[1][i]/r[0][i]) if r[0][i]>0 else 0.0 for i\n",
        "in range(n_arms)])\n",
        "print(\"손잡이별 수익($) : \", [\"%d\"% (2*r[1][i]-r[0][i]) for i in range(n_arms)])\n",
        "print(\"순 수익($) : \", sum(np.asarray(e)[:,1]))\n",
        "\n",
        "#e탐욕을 구현하는 함수\n",
        "def epsilon_greedy(eps):\n",
        "  episode=[]\n",
        "  num=np.zeros(n_arms)\n",
        "  wins=np.zeros(n_arms)\n",
        "  for i in range(n_trial):\n",
        "    r=np.random.random()\n",
        "    if(r<eps or sum(wins)==0):\n",
        "      h=np.random.randint(0, n_arms)\n",
        "    else:\n",
        "      prob=np.asarray([wins[i]/num[i] if num[i]>0 else 0.0 for i in range(n_arms)])\n",
        "      prob=prob/sum(prob)\n",
        "      h=np.random.choice(range(n_arms),p=prob)\n",
        "    reward=pull_bandit(h)\n",
        "    episode.append([h, reward])\n",
        "    num[h]+=1\n",
        "    wins[h]+=1 if reward==1 else 0\n",
        "  return episode, (num, wins)\n",
        "\n",
        "e,r=epsilon_greedy(0.1)\n",
        "\n",
        "print(\"손잡이별 승릭 확율 : \", [\"%6.4f\"% (r[1][i]/r[0][i]) if r[0][i]>0 else 0.0 for i\n",
        "in range(n_arms)])\n",
        "print(\"손잡이별 수익($) : \", [\"%d\"% (2*r[1][i]-r[0][i]) for i in range(n_arms)])\n",
        "print(\"순 수익($) : \", sum(np.asarray(e)[:,1]))\n"
      ]
    }
  ]
}