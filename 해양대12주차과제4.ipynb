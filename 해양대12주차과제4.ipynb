{
  "nbformat": 4,
  "nbformat_minor": 0,
  "metadata": {
    "colab": {
      "provenance": [],
      "authorship_tag": "ABX9TyN/6aF22W1cYAiryDdiWwm+",
      "include_colab_link": true
    },
    "kernelspec": {
      "name": "python3",
      "display_name": "Python 3"
    },
    "language_info": {
      "name": "python"
    }
  },
  "cells": [
    {
      "cell_type": "markdown",
      "metadata": {
        "id": "view-in-github",
        "colab_type": "text"
      },
      "source": [
        "<a href=\"https://colab.research.google.com/github/kimyt1976/AI-Programming/blob/main/%ED%95%B4%EC%96%91%EB%8C%8012%EC%A3%BC%EC%B0%A8%EA%B3%BC%EC%A0%9C4.ipynb\" target=\"_parent\"><img src=\"https://colab.research.google.com/assets/colab-badge.svg\" alt=\"Open In Colab\"/></a>"
      ]
    },
    {
      "cell_type": "code",
      "execution_count": null,
      "metadata": {
        "colab": {
          "base_uri": "https://localhost:8080/",
          "height": 1000
        },
        "id": "_d57Cwsj2d4c",
        "outputId": "525df15a-6421-48c4-a94e-8303f72ce6a6"
      },
      "outputs": [
        {
          "output_type": "stream",
          "name": "stdout",
          "text": [
            "Model: \"sequential_1\"\n",
            "_________________________________________________________________\n",
            " Layer (type)                Output Shape              Param #   \n",
            "=================================================================\n",
            " conv2d_3 (Conv2D)           (None, 28, 28, 32)        320       \n",
            "                                                                 \n",
            " max_pooling2d_2 (MaxPoolin  (None, 14, 14, 32)        0         \n",
            " g2D)                                                            \n",
            "                                                                 \n",
            " conv2d_4 (Conv2D)           (None, 14, 14, 64)        18496     \n",
            "                                                                 \n",
            " max_pooling2d_3 (MaxPoolin  (None, 7, 7, 64)          0         \n",
            " g2D)                                                            \n",
            "                                                                 \n",
            " conv2d_5 (Conv2D)           (None, 7, 7, 32)          18464     \n",
            "                                                                 \n",
            " flatten_1 (Flatten)         (None, 1568)              0         \n",
            "                                                                 \n",
            " dense_3 (Dense)             (None, 128)               200832    \n",
            "                                                                 \n",
            " dense_4 (Dense)             (None, 32)                4128      \n",
            "                                                                 \n",
            " dense_5 (Dense)             (None, 10)                330       \n",
            "                                                                 \n",
            "=================================================================\n",
            "Total params: 242570 (947.54 KB)\n",
            "Trainable params: 242570 (947.54 KB)\n",
            "Non-trainable params: 0 (0.00 Byte)\n",
            "_________________________________________________________________\n",
            "Epoch 1/10\n",
            "1407/1407 [==============================] - 41s 28ms/step - loss: 0.4611 - accuracy: 0.8352 - val_loss: 0.3357 - val_accuracy: 0.8774\n",
            "Epoch 2/10\n",
            "1407/1407 [==============================] - 40s 28ms/step - loss: 0.3070 - accuracy: 0.8868 - val_loss: 0.2951 - val_accuracy: 0.8917\n",
            "Epoch 3/10\n",
            "1407/1407 [==============================] - 40s 28ms/step - loss: 0.2603 - accuracy: 0.9024 - val_loss: 0.2794 - val_accuracy: 0.8989\n",
            "Epoch 4/10\n",
            "1407/1407 [==============================] - 39s 28ms/step - loss: 0.2269 - accuracy: 0.9159 - val_loss: 0.2842 - val_accuracy: 0.8987\n",
            "Epoch 5/10\n",
            "1407/1407 [==============================] - 39s 28ms/step - loss: 0.2013 - accuracy: 0.9249 - val_loss: 0.2795 - val_accuracy: 0.9029\n",
            "Epoch 6/10\n",
            "1407/1407 [==============================] - 49s 35ms/step - loss: 0.1780 - accuracy: 0.9335 - val_loss: 0.2700 - val_accuracy: 0.9067\n",
            "Epoch 7/10\n",
            "1407/1407 [==============================] - 39s 28ms/step - loss: 0.1545 - accuracy: 0.9426 - val_loss: 0.2965 - val_accuracy: 0.9057\n",
            "Epoch 8/10\n",
            "1407/1407 [==============================] - 40s 28ms/step - loss: 0.1363 - accuracy: 0.9494 - val_loss: 0.2898 - val_accuracy: 0.9074\n",
            "Epoch 9/10\n",
            "1407/1407 [==============================] - 39s 28ms/step - loss: 0.1203 - accuracy: 0.9552 - val_loss: 0.3118 - val_accuracy: 0.9058\n",
            "Epoch 10/10\n",
            "1407/1407 [==============================] - 40s 28ms/step - loss: 0.1124 - accuracy: 0.9588 - val_loss: 0.3265 - val_accuracy: 0.9095\n",
            "313/313 - 2s - loss: 0.3601 - accuracy: 0.9022 - 2s/epoch - 7ms/step\n",
            "테스트 정확도 :  0.9021999835968018\n",
            "2/2 [==============================] - 0s 7ms/step\n",
            "예측값 =  [9 2 1 1 6 1 4 6 5 7 4 5 8 3 4 1 2 4 8 0 2 5 7 5 1 2 6 0 9 3 8 8 3 3 8 0 7\n",
            " 5 7 9 0 1 6 9 6 7 2 1 2 2]\n",
            "실제값 =  [9 2 1 1 6 1 4 6 5 7 4 5 7 3 4 1 2 4 8 0 2 5 7 9 1 4 6 0 9 3 8 8 3 3 8 0 7\n",
            " 5 7 9 6 1 3 7 6 7 2 1 2 2]\n"
          ]
        },
        {
          "output_type": "display_data",
          "data": {
            "text/plain": [
              "<Figure size 640x480 with 1 Axes>"
            ],
            "image/png": "[encoded data removed]"
          },
          "metadata": {}
        }
      ],
      "source": [
        "import tensorflow as tf\n",
        "from tensorflow import keras\n",
        "import numpy as np\n",
        "import matplotlib.pyplot as plt\n",
        "\n",
        "fashion_mnist = keras.datasets.fashion_mnist\n",
        "(train_images, train_labels), (test_images, test_labels) = fashion_mnist.load_data()\n",
        "\n",
        "train_images = train_images[:, :, :, np.newaxis]\n",
        "test_images = test_images[:, :, :, np.newaxis]\n",
        "train_images, test_images = train_images / 255, test_images / 255\n",
        "\n",
        "model = keras.models.Sequential([\n",
        "    keras.layers.Conv2D(input_shape = (28, 28, 1),\n",
        "                        kernel_size = (3, 3), padding = 'same',\n",
        "                        filters = 32),\n",
        "    keras.layers.MaxPooling2D((2, 2), strides=2),\n",
        "    keras.layers.Conv2D(kernel_size = (3, 3), padding = 'same',\n",
        "                        filters = 64),\n",
        "    keras.layers.MaxPooling2D((2, 2), strides=2),\n",
        "    keras.layers.Conv2D(kernel_size = (3, 3), padding = 'same',\n",
        "                        filters = 32),\n",
        "    keras.layers.Flatten(),\n",
        "    keras.layers.Dense(128, activation = 'relu'),\n",
        "    keras.layers.Dense(32, activation = 'relu'),\n",
        "    keras.layers.Dense(10, activation='softmax')\n",
        "])\n",
        "\n",
        "model.summary()\n",
        "\n",
        "model.compile(optimizer='adam',\n",
        "              loss = 'sparse_categorical_crossentropy',\n",
        "              metrics=['accuracy'])\n",
        "hist = model.fit(train_images, train_labels,\n",
        "                 epochs=10, validation_split=0.25)\n",
        "\n",
        "plt.plot(hist.history['accuracy'], 'b-')\n",
        "plt.plot(hist.history['val_accuracy'], 'r--')\n",
        "\n",
        "test_loss, test_acc = model.evaluate(test_images, test_labels, verbose=2)\n",
        "print('테스트 정확도 : ', test_acc)\n",
        "\n",
        "mnist_lbl = ['T-shirt', 'Trouser', 'Pullover', 'Dress', 'Coat',\n",
        "             'Sandal', 'Shirt', 'Sneaker', 'Bag', 'Ankle_boot']\n",
        "\n",
        "images = test_images[:50]\n",
        "pred = np.argmax(model.predict(images), axis=1)\n",
        "print('예측값 = ', pred)\n",
        "print('실제값 = ', test_labels[:50])\n",
        "\n",
        "#전처리한 합성곱 신경망 50개의 데이터에 대한 예측 / epochs=10"
      ]
    }
  ]
}