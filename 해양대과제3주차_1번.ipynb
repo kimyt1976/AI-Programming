{
  "nbformat": 4,
  "nbformat_minor": 0,
  "metadata": {
    "colab": {
      "provenance": [],
      "authorship_tag": "ABX9TyOpNaSlMHtxHirepsjppMmX",
      "include_colab_link": true
    },
    "kernelspec": {
      "name": "python3",
      "display_name": "Python 3"
    },
    "language_info": {
      "name": "python"
    }
  },
  "cells": [
    {
      "cell_type": "markdown",
      "metadata": {
        "id": "view-in-github",
        "colab_type": "text"
      },
      "source": [
        "<a href=\"https://colab.research.google.com/github/kimyt1976/AI-Programming/blob/main/%ED%95%B4%EC%96%91%EB%8C%80%EA%B3%BC%EC%A0%9C3%EC%A3%BC%EC%B0%A8_1%EB%B2%88.ipynb\" target=\"_parent\"><img src=\"https://colab.research.google.com/assets/colab-badge.svg\" alt=\"Open In Colab\"/></a>"
      ]
    },
    {
      "cell_type": "code",
      "execution_count": 74,
      "metadata": {
        "colab": {
          "base_uri": "https://localhost:8080/"
        },
        "id": "TMNX5XTiHBAD",
        "outputId": "dade5467-f9b5-47b4-9d9a-3035bfcece52"
      },
      "outputs": [
        {
          "output_type": "stream",
          "name": "stdout",
          "text": [
            "lotto =  [22  9 15 44 39 37]\n",
            "lotto =  [ 2 12 10 20 17 19]\n",
            "lotto =  [37 10 16 31 35 15]\n",
            "[[22  9 15 44 39 37]\n",
            " [ 2 12 10 20 17 19]\n",
            " [37 10 16 31 35 15]]\n"
          ]
        }
      ],
      "source": [
        "import numpy as np\n",
        "\n",
        "np.random.seed(85)\n",
        "a = np.arange (1,46)\n",
        "\n",
        "lista=[]\n",
        "num = 1\n",
        "\n",
        "while num < 4:\n",
        "  np.random.shuffle(a)\n",
        "  lotto = a[:6]\n",
        "  print('lotto = ', lotto)\n",
        "  lista.extend(lotto)\n",
        "  num = num + 1\n",
        "myarray = np.array(lista)\n",
        "myarray2 = b.reshape(3,6)\n",
        "print (myarray2)\n"
      ]
    }
  ]
}