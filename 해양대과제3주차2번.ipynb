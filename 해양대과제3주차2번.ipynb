{
  "nbformat": 4,
  "nbformat_minor": 0,
  "metadata": {
    "colab": {
      "provenance": [],
      "authorship_tag": "ABX9TyMTfepw6nRxxZhasHCXEoHh",
      "include_colab_link": true
    },
    "kernelspec": {
      "name": "python3",
      "display_name": "Python 3"
    },
    "language_info": {
      "name": "python"
    }
  },
  "cells": [
    {
      "cell_type": "markdown",
      "metadata": {
        "id": "view-in-github",
        "colab_type": "text"
      },
      "source": [
        "<a href=\"https://colab.research.google.com/github/kimyt1976/AI-Programming/blob/main/%ED%95%B4%EC%96%91%EB%8C%80%EA%B3%BC%EC%A0%9C3%EC%A3%BC%EC%B0%A82%EB%B2%88.ipynb\" target=\"_parent\"><img src=\"https://colab.research.google.com/assets/colab-badge.svg\" alt=\"Open In Colab\"/></a>"
      ]
    },
    {
      "cell_type": "code",
      "execution_count": 7,
      "metadata": {
        "colab": {
          "base_uri": "https://localhost:8080/"
        },
        "id": "Z-gpehWKPEVq",
        "outputId": "56b5d44a-6b43-4e24-90f0-226ef8816c70"
      },
      "outputs": [
        {
          "output_type": "stream",
          "name": "stdout",
          "text": [
            "샘플\n",
            "[[[9 3 5 0 9]\n",
            "  [4 4 7 6 1]\n",
            "  [3 8 0 4 8]\n",
            "  [9 8 1 2 7]]\n",
            "\n",
            " [[3 8 1 6 7]\n",
            "  [7 3 0 9 7]\n",
            "  [0 4 3 0 5]\n",
            "  [7 4 8 9 5]]\n",
            "\n",
            " [[7 7 4 8 4]\n",
            "  [4 6 1 3 5]\n",
            "  [1 7 3 0 3]\n",
            "  [8 5 8 8 0]]]\n",
            "1번문제\n",
            "[[[ 1 19  0 19 15 16]\n",
            "  [14 10  1 14 12  0]\n",
            "  [ 3  0  4  7 12  4]]\n",
            "\n",
            " [[14 15  3 17 13 17]\n",
            "  [10 15 16  3 10  5]\n",
            "  [ 0  6 19  4 15 16]]\n",
            "\n",
            " [[14  8  4  8  0  1]\n",
            "  [ 2 15 16 12  5  6]\n",
            "  [ 9 14  9  7 11  6]]]\n",
            "2번문제\n",
            "[[68 36 13 62 53 44]\n",
            " [ 2  2 91 50 35 76]\n",
            " [47  0 31 52  9 74]\n",
            " [35 29 31  6 16 28]\n",
            " [37 71 72 95 91  8]]\n"
          ]
        }
      ],
      "source": [
        "print(\"샘플\")\n",
        "import numpy as np\n",
        "#3 차원 배열의 크기를 지정합니다\n",
        "shape = (3, 4, 5)\n",
        "# 3차원 배열을 생성합니다\n",
        "arr = np.random.randint(0, 10, shape)\n",
        "# 3차원 배열을 출력합니다\n",
        "print(arr)\n",
        "\n",
        "# 1.shape 가 (3, 3, 6) 이고 , 배열 원소가 0~20 사이의 정수 값을 갖도록 임의의 3 차원 배열을 만드세요\n",
        "print(\"1번문제\")\n",
        "import numpy as np\n",
        "#3 차원 배열의 크기를 지정합니다\n",
        "shape = (3, 3, 6)\n",
        "# 3차원 배열을 생성합니다\n",
        "arr = np.random.randint(0, 20, shape)\n",
        "# 3차원 배열을 출력합니다\n",
        "print(arr)\n",
        "\n",
        "# 2.shape 가 (5, 6) 이고 , 배열 원소가 0~100 사이의 정수 값을 갖도록 임의의 2 차원 배열을만드세요\n",
        "print(\"2번문제\")\n",
        "import numpy as np\n",
        "#3 차원 배열의 크기를 지정합니다\n",
        "shape = (5, 6)\n",
        "# 3차원 배열을 생성합니다\n",
        "arr = np.random.randint(0, 100, shape)\n",
        "# 3차원 배열을 출력합니다\n",
        "print(arr)"
      ]
    }
  ]
}